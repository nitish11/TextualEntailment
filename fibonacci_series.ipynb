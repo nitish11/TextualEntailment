{
 "cells": [
  {
   "cell_type": "markdown",
   "metadata": {},
   "source": [
    "### Modified\tFibonacci Problem\n",
    "\n",
    "Modified\tFibonacci\tis\ta\tgeneralized\tFibonacci series\twhere\tevery\tterm\tis\ta\tsum\tof\tprevious k terms.\n",
    "\n",
    "#### Example:\n",
    "* For k=3,\tseries\twould\tlook\tlike\t1,1,1,3,5,9,17…\n",
    "* For\tk=4,\tseries\twould\tlook\tlike\t1,1,1,1,4,7,13…\n",
    "\n",
    "We\tcan\tsafely\tassume\tthat\tfirst\tk\tterms\tin\tthe\tseries\tare\tall\tones.\n",
    "Problem\tStatement:\n",
    "* 1. Write\ta\ttime\tand\tspace\tefficient\tpython or\tJava program\tto\treturn\ta\tnth term\tof\ta\t\n",
    "modified\tFibonacci series\tgiven\ta\tvalue\tof\tk.\n",
    "* 2. Also,\tplease\tshare\tyour\tthoughts\ton\tthe\tcomplexity\tof\tyour\tsolution.\n",
    "\n",
    "#### Examples:\n",
    "* modFib(n=6, k=3)\t->\t9\n",
    "* modFib(n=2, k=4)\t->\t1\n"
   ]
  },
  {
   "cell_type": "code",
   "execution_count": 1,
   "metadata": {
    "collapsed": false
   },
   "outputs": [
    {
     "data": {
      "text/plain": [
       "[1, 1, 1, 3, 5, 9, 17, 31, 57, 105]"
      ]
     },
     "execution_count": 1,
     "metadata": {},
     "output_type": "execute_result"
    }
   ],
   "source": [
    "#Solution 1 \n",
    "#Brute_force approach of adding last k elements for every next element\n",
    "\n",
    "#input parameter k\n",
    "k = 3\n",
    "n = 10\n",
    "\n",
    "#assumptions\n",
    "fibonacci_series = [1 for index in range(k)]\n",
    "\n",
    "for index in range(n-k):\n",
    "    next_element = sum(fibonacci_series[-k:])\n",
    "    fibonacci_series.append(next_element)\n",
    "\n",
    "fibonacci_series\n",
    "\n",
    "#Time Complexity : O(n*k)\n",
    "#Space Complexity : O(n)"
   ]
  },
  {
   "cell_type": "code",
   "execution_count": 2,
   "metadata": {
    "collapsed": false
   },
   "outputs": [
    {
     "data": {
      "text/plain": [
       "[31, 57, 105]"
      ]
     },
     "execution_count": 2,
     "metadata": {},
     "output_type": "execute_result"
    }
   ],
   "source": [
    "#Solution 2\n",
    "#Every time in the series the last kth number is being deleted \n",
    "# and new number is added which is sum of previous k-elements\n",
    "# so, storing k values will suffice and reduce space complexity\n",
    "\n",
    "#input parameter k\n",
    "k = 3\n",
    "n = 10\n",
    "\n",
    "#assumptions\n",
    "fibonacci_series = [1 for index in range(k)]\n",
    "\n",
    "for index in range(n-k):\n",
    "    next_element = sum(fibonacci_series[-k:])\n",
    "    fibonacci_series.append(next_element)\n",
    "    del fibonacci_series[0]\n",
    "\n",
    "fibonacci_series\n",
    "\n",
    "#Time Complexity : O(n*k)\n",
    "#Space Complexity : O(k)"
   ]
  },
  {
   "cell_type": "code",
   "execution_count": 3,
   "metadata": {
    "collapsed": false
   },
   "outputs": [
    {
     "data": {
      "text/plain": [
       "[1, 1, 1, 3, 5, 9, 17, 31, 57, 105]"
      ]
     },
     "execution_count": 3,
     "metadata": {},
     "output_type": "execute_result"
    }
   ],
   "source": [
    "#Solution 3\n",
    "#Every time in the series the last kth number is being deleted \n",
    "# and new number is added which is sum of previous k-elements\n",
    "# so, it can be written as F(n) = 2*F(n-1) - F(n-k-1)\n",
    "\n",
    "#input parameter k\n",
    "k = 3\n",
    "n = 10\n",
    "\n",
    "#assumptions\n",
    "fibonacci_series = [1 for index in range(k)]\n",
    "\n",
    "#Hard-coded rule for k+1th elements\n",
    "next_element = sum(fibonacci_series[-k:])\n",
    "fibonacci_series.append(next_element)\n",
    "\n",
    "for index in range(n-k-1):\n",
    "    next_element = 2*fibonacci_series[-1] - fibonacci_series[-k-1]\n",
    "    fibonacci_series.append(next_element)\n",
    "\n",
    "fibonacci_series\n",
    "\n",
    "#Time Complexity : O(n)\n",
    "#Space Complexity : O(n)"
   ]
  },
  {
   "cell_type": "code",
   "execution_count": null,
   "metadata": {
    "collapsed": true
   },
   "outputs": [],
   "source": []
  },
  {
   "cell_type": "code",
   "execution_count": null,
   "metadata": {
    "collapsed": true
   },
   "outputs": [],
   "source": []
  }
 ],
 "metadata": {
  "kernelspec": {
   "display_name": "Python 2",
   "language": "python",
   "name": "python2"
  },
  "language_info": {
   "codemirror_mode": {
    "name": "ipython",
    "version": 2
   },
   "file_extension": ".py",
   "mimetype": "text/x-python",
   "name": "python",
   "nbconvert_exporter": "python",
   "pygments_lexer": "ipython2",
   "version": "2.7.6"
  }
 },
 "nbformat": 4,
 "nbformat_minor": 1
}
