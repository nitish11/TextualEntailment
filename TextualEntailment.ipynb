{
 "cells": [
  {
   "cell_type": "markdown",
   "metadata": {},
   "source": [
    "The   Penn   Paraphrase   Database   consists   of   millions   of   short   phrase   pairs   (source   is   first,   and  \n",
    "target   is   second).   The   relationship   between   short   pairs   may   be   of   five   types:   equivalent,  \n",
    "forward/reverse entailment, exclusion, other related, or independent. \n",
    "● Equivalent: the pairs mean the same thing \n",
    "● Forward/Reverse Entailment: the target must be true if the source is true. \n",
    "● Exclusion: the pairs are antonyms or both can’t cannot be true at once. \n",
    "● Other Related: the pair have some relation not described above \n",
    "● Independent: the pair has no relation whatsoever \n",
    " \n",
    "according to in accordance with  Equivalence \n",
    "the purpose of determining  the determination of  Forward Entailment \n",
    "an error occurred  the following error occurred  Reverse Entailment \n",
    "newspapers from Monday  newspapers from Saturday  Exclusion \n",
    " \n",
    "For   example,   for   ​ the   purpose   ​ of   determination   to   be   known,   ​ the   determination   of   must   also   be  \n",
    "true,   i.e.,   to   know   why   something   was   done   requires   that   something   be   done.   Furthermore,   in  \n",
    "the last example, newspapers must be from either Monday and Saturday, never both. \n",
    " \n",
    "The   two   attached   data   files   each   contain   approximately   1000   source­target   pairs,   additional  \n",
    "calculated   data   from   each,   and   which   of   the   five   types   of   relationships   holds   between   them.  \n",
    "The   key   aspect   of   your   task   is   to   describe   a   hypothetical   predicting   engine   that   learns   to   infer  \n",
    "the   relationship   between   two   new   source­target   pairs   when   all   the   same   information   is   provided.  \n",
    "(Or, put another way, that performs best using one file as training and another as test data.)   \n",
    " \n",
    "You   are   free   to   use   any   information   at   your   disposal   to   complete   this   problem.   When   possible,  \n",
    "please refer to other sources. \n",
    " \n",
    "1) What   is   the   approximate   percentage   of   each   of   the   five   relations   in   the   data?   If   any,  \n",
    "what method did you use to arrive at this answer. \n",
    " \n",
    "2) Assess and describe the quality of the data in detail, and your reasons for concluding so. \n",
    " \n",
    "3) Please describe as many of the data columns as you can using any methods. \n",
    "  \n",
    "  \n",
    "4) What might be a baseline or minimum expected accuracy on this prediction agent? \n",
    " \n",
    " \n",
    "5) Describe   your   proposed   prediction   engine,   its   algorithms,   features,   special   processing,  \n",
    "and the method you use to score its performance against test data. "
   ]
  },
  {
   "cell_type": "code",
   "execution_count": null,
   "metadata": {
    "collapsed": true
   },
   "outputs": [],
   "source": []
  }
 ],
 "metadata": {
  "kernelspec": {
   "display_name": "Python 2",
   "language": "python",
   "name": "python2"
  },
  "language_info": {
   "codemirror_mode": {
    "name": "ipython",
    "version": 2
   },
   "file_extension": ".py",
   "mimetype": "text/x-python",
   "name": "python",
   "nbconvert_exporter": "python",
   "pygments_lexer": "ipython2",
   "version": "2.7.6"
  }
 },
 "nbformat": 4,
 "nbformat_minor": 1
}
