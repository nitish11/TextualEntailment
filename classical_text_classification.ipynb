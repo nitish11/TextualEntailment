{
 "cells": [
  {
   "cell_type": "code",
   "execution_count": 11,
   "metadata": {
    "collapsed": false
   },
   "outputs": [],
   "source": [
    "#@author : https://github.com/nitish11  \n",
    "#@decription : finding relationship betwen two sentences \n",
    "#@date : 31st June, 2017'"
   ]
  },
  {
   "cell_type": "markdown",
   "metadata": {},
   "source": [
    "## Objective : \n",
    "\n",
    "* Text classification for given two columns of data *train_data[[1,2]]*.\n",
    "* No. of classes = 5 *[' ForwardEntailment', ' Independent', ' Equivalence', ' ReverseEntailment', ' OtherRelated']*\n",
    "\n",
    "* Other columns contain extra  information about the two segments of sentences"
   ]
  },
  {
   "cell_type": "markdown",
   "metadata": {},
   "source": [
    "## Approach \n",
    "\n",
    "### Using classical method of classification\n",
    "\n",
    "* Preprcoessing of columns of the given data\n",
    "    * Extract the numeral information from the data given as extra columns\n",
    "    * Store only these columns as training data\n",
    "* Use the extracted information from training data and perform classical methods (Random Forest, XGboost) for classification. \n",
    "\n",
    "\n",
    "### Deep Learning Solution \n",
    "\n",
    "* Use only starting 2 columns (text_data) and do pre-processing.\n",
    "* Use word2vec or Glove for representing text as vectors.\n",
    "* Use the vectors and do classiication using differen models as LSTM."
   ]
  },
  {
   "cell_type": "markdown",
   "metadata": {},
   "source": [
    "### Loading the data and preprocessing "
   ]
  },
  {
   "cell_type": "code",
   "execution_count": 1,
   "metadata": {
    "collapsed": false
   },
   "outputs": [
    {
     "name": "stdout",
     "output_type": "stream",
     "text": [
      "('-- keys : ', Int64Index([0, 1, 2, 3, 4, 5, 6, 7, 8, 9, 10, 11, 12, 13, 14, 15, 16, 17], dtype='int64'))\n",
      "('--- :',                  1                     2\n",
      "0   used to treat              to treat \n",
      "1    education is    education programs \n",
      "2    are reviewed      are under review )\n",
      "('--- :', array([' ForwardEntailment', ' Independent', ' Equivalence',\n",
      "       ' ReverseEntailment', ' OtherRelated'], dtype=object))\n"
     ]
    }
   ],
   "source": [
    "#import modules\n",
    "import pandas as pd"
   ]
  },
  {
   "cell_type": "code",
   "execution_count": 9,
   "metadata": {
    "collapsed": false
   },
   "outputs": [
    {
     "name": "stdout",
     "output_type": "stream",
     "text": [
      "('-- keys : ', Int64Index([0, 1, 2, 3, 4, 5, 6, 7, 8, 9, 10, 11, 12, 13, 14, 15, 16, 17], dtype='int64'))\n",
      "('---text_data:',                  1                     2\n",
      "0   used to treat              to treat \n",
      "1    education is    education programs \n",
      "2    are reviewed      are under review )\n",
      "('--- Results :', array([' ForwardEntailment', ' Independent', ' Equivalence',\n",
      "       ' ReverseEntailment', ' OtherRelated'], dtype=object))\n",
      "('--- #of rows:', 18000)\n"
     ]
    }
   ],
   "source": [
    "#Loading training data\n",
    "train_data = pd.read_csv(\"ppdb.train.csv\", header=None)\n",
    "\n",
    "print(\"-- keys : \",train_data.keys())\n",
    "print(\"---text_data:\",train_data[[1,2]].head(3))\n",
    "print(\"--- Results :\",train_data[17].unique())\n",
    "print(\"--- #of rows:\",train_data.size)"
   ]
  },
  {
   "cell_type": "code",
   "execution_count": 5,
   "metadata": {
    "collapsed": false
   },
   "outputs": [
    {
     "data": {
      "text/plain": [
       "array([0, 1, 2, 3, 4], dtype=object)"
      ]
     },
     "execution_count": 5,
     "metadata": {},
     "output_type": "execute_result"
    }
   ],
   "source": [
    "# Preprocessing of result column\n",
    "train_data.loc[train_data[17] == ' ForwardEntailment', 17] = 0\n",
    "train_data.loc[train_data[17] == ' Independent', 17] = 1\n",
    "train_data.loc[train_data[17] == ' Equivalence', 17] = 2\n",
    "train_data.loc[train_data[17] == ' ReverseEntailment', 17] = 3\n",
    "train_data.loc[train_data[17] == ' OtherRelated', 17] = 4\n",
    "train_data[17].unique()\n"
   ]
  },
  {
   "cell_type": "markdown",
   "metadata": {
    "collapsed": true
   },
   "source": []
  },
  {
   "cell_type": "code",
   "execution_count": null,
   "metadata": {
    "collapsed": true
   },
   "outputs": [],
   "source": []
  }
 ],
 "metadata": {
  "kernelspec": {
   "display_name": "Python 2",
   "language": "python",
   "name": "python2"
  },
  "language_info": {
   "codemirror_mode": {
    "name": "ipython",
    "version": 2
   },
   "file_extension": ".py",
   "mimetype": "text/x-python",
   "name": "python",
   "nbconvert_exporter": "python",
   "pygments_lexer": "ipython2",
   "version": "2.7.6"
  }
 },
 "nbformat": 4,
 "nbformat_minor": 1
}
